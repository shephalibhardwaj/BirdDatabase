{
 "cells": [
  {
   "cell_type": "code",
   "execution_count": 1,
   "id": "67749b57",
   "metadata": {},
   "outputs": [],
   "source": [
    "import pandas as pd"
   ]
  },
  {
   "cell_type": "code",
   "execution_count": 15,
   "id": "2a792540",
   "metadata": {},
   "outputs": [],
   "source": [
    "#page = 'https://en.wikipedia.org/wiki/Greylag_goose'\n",
    "#infoboxes = pd.read_html(page, attrs={\"class\":\"infobox biota\"})"
   ]
  },
  {
   "cell_type": "code",
   "execution_count": 92,
   "id": "8b98f2ca",
   "metadata": {},
   "outputs": [
    {
     "data": {
      "text/html": [
       "<div>\n",
       "<style scoped>\n",
       "    .dataframe tbody tr th:only-of-type {\n",
       "        vertical-align: middle;\n",
       "    }\n",
       "\n",
       "    .dataframe tbody tr th {\n",
       "        vertical-align: top;\n",
       "    }\n",
       "\n",
       "    .dataframe thead th {\n",
       "        text-align: right;\n",
       "    }\n",
       "</style>\n",
       "<table border=\"1\" class=\"dataframe\">\n",
       "  <thead>\n",
       "    <tr style=\"text-align: right;\">\n",
       "      <th></th>\n",
       "      <th>Name</th>\n",
       "      <th>Conservation status</th>\n",
       "      <th>Kingdom</th>\n",
       "      <th>Phylum</th>\n",
       "      <th>Class</th>\n",
       "      <th>Order</th>\n",
       "      <th>Family</th>\n",
       "      <th>Genus</th>\n",
       "      <th>Species</th>\n",
       "    </tr>\n",
       "  </thead>\n",
       "  <tbody>\n",
       "  </tbody>\n",
       "</table>\n",
       "</div>"
      ],
      "text/plain": [
       "Empty DataFrame\n",
       "Columns: [Name, Conservation status, Kingdom, Phylum, Class, Order, Family, Genus, Species]\n",
       "Index: []"
      ]
     },
     "execution_count": 92,
     "metadata": {},
     "output_type": "execute_result"
    }
   ],
   "source": [
    "birds = pd.DataFrame(columns=['Name','Conservation status','Kingdom','Phylum','Class','Order','Family', 'Genus', 'Species'])\n",
    "birds"
   ]
  },
  {
   "cell_type": "code",
   "execution_count": 88,
   "id": "0e9b0e12",
   "metadata": {},
   "outputs": [],
   "source": [
    "def extract_data(infobox):\n",
    "    df = pd.DataFrame(infobox)\n",
    "    df = df.dropna()\n",
    "    \n",
    "    row = [list(df.columns)[0]]\n",
    "    row.append(df.loc[4, : ][1])\n",
    "    row.append(df.loc[6, : ][1])\n",
    "    row.append(df.loc[7, : ][1])\n",
    "    row.append(df.loc[8, : ][1])\n",
    "    row.append(df.loc[9, : ][1])\n",
    "    row.append(df.loc[10, : ][1])\n",
    "    row.append(df.loc[11, : ][1])\n",
    "    row.append(df.loc[12, : ][1])\n",
    "    \n",
    "    birds_length = len(birds)\n",
    "    birds.loc[birds_length] = row\n",
    "    "
   ]
  },
  {
   "cell_type": "code",
   "execution_count": 78,
   "id": "225ec16a",
   "metadata": {},
   "outputs": [],
   "source": [
    "pages = ['https://en.wikipedia.org/wiki/Greylag_goose', 'https://en.wikipedia.org/wiki/Mute_swan', 'https://en.wikipedia.org/wiki/White-winged_duck']"
   ]
  },
  {
   "cell_type": "code",
   "execution_count": 93,
   "id": "8c78162e",
   "metadata": {},
   "outputs": [
    {
     "name": "stdout",
     "output_type": "stream",
     "text": [
      "                Name          Conservation status   Kingdom        Phylum  \\\n",
      "0      Greylag goose  Least Concern (IUCN 3.1)[1]  Animalia      Chordata   \n",
      "1          Mute swan                     Animalia      Aves  Anseriformes   \n",
      "2  White-winged duck    Scientific classification  Chordata          Aves   \n",
      "\n",
      "          Class         Order                     Family          Genus  \\\n",
      "0          Aves  Anseriformes                   Anatidae          Anser   \n",
      "1      Anatidae        Cygnus                    C. olor  Binomial name   \n",
      "2  Anseriformes      Anatidae  AsarcornisSalvadori, 1895   A. scutulata   \n",
      "\n",
      "                     Species  \n",
      "0                   A. anser  \n",
      "1  Cygnus olor(Gmelin, 1789)  \n",
      "2              Binomial name  \n"
     ]
    }
   ],
   "source": [
    "for i in pages:\n",
    "    infoboxes = pd.read_html(i, attrs={\"class\":\"infobox biota\"})\n",
    "    if len(infoboxes)==1:\n",
    "        extract_data(infoboxes[0])\n",
    "print(birds)"
   ]
  }
 ],
 "metadata": {
  "kernelspec": {
   "display_name": "Python 3",
   "language": "python",
   "name": "python3"
  },
  "language_info": {
   "codemirror_mode": {
    "name": "ipython",
    "version": 3
   },
   "file_extension": ".py",
   "mimetype": "text/x-python",
   "name": "python",
   "nbconvert_exporter": "python",
   "pygments_lexer": "ipython3",
   "version": "3.8.8"
  }
 },
 "nbformat": 4,
 "nbformat_minor": 5
}
